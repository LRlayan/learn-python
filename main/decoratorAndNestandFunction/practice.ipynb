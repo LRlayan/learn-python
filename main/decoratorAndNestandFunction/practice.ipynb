{
 "cells": [
  {
   "cell_type": "code",
   "execution_count": 2,
   "metadata": {},
   "outputs": [
    {
     "name": "stdout",
     "output_type": "stream",
     "text": [
      "15\n",
      "15\n"
     ]
    }
   ],
   "source": [
    "# nested function\n",
    "def outer(x):\n",
    "    def inner(y):\n",
    "        return x + y\n",
    "    return inner\n",
    "\n",
    "#There are 2 ways to print\n",
    "inner_function = outer(10)\n",
    "print(inner_function(5)) #1st way\n",
    "print(outer(10)(5)) #2nd way"
   ]
  },
  {
   "cell_type": "code",
   "execution_count": null,
   "metadata": {},
   "outputs": [
    {
     "name": "stdout",
     "output_type": "stream",
     "text": [
      "30\n"
     ]
    }
   ],
   "source": [
    "# pass function as argument\n",
    "\n",
    "def add(x,y):\n",
    "    return x + y\n",
    "\n",
    "def calculate(add_function,x,y):\n",
    "    return add_function(x,y)\n",
    "\n",
    "print(calculate(add,10,20))"
   ]
  },
  {
   "cell_type": "code",
   "execution_count": null,
   "metadata": {},
   "outputs": [
    {
     "name": "stdout",
     "output_type": "stream",
     "text": [
      "I got decorated!\n",
      "I'm ordinary\n"
     ]
    }
   ],
   "source": [
    "# python decorator\n",
    "# this usage is code reuseability and function wrapup\n",
    "\n",
    "def make_pretty(function):\n",
    "    def inner():\n",
    "        print(\"I got decorated!\")\n",
    "        function()\n",
    "    return inner\n",
    "\n",
    "@make_pretty # - this is calling the make_pretty function\n",
    "def ordinary():\n",
    "    print(\"I'm ordinary\")\n",
    "    \n",
    "ordinary() # - no need to argument because the @make_pretty is placed. therefore, pass the argument is becomes auto. "
   ]
  }
 ],
 "metadata": {
  "kernelspec": {
   "display_name": "Python 3",
   "language": "python",
   "name": "python3"
  },
  "language_info": {
   "codemirror_mode": {
    "name": "ipython",
    "version": 3
   },
   "file_extension": ".py",
   "mimetype": "text/x-python",
   "name": "python",
   "nbconvert_exporter": "python",
   "pygments_lexer": "ipython3",
   "version": "3.13.0"
  }
 },
 "nbformat": 4,
 "nbformat_minor": 2
}
