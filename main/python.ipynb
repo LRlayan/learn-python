{
 "cells": [
  {
   "cell_type": "code",
   "execution_count": null,
   "metadata": {},
   "outputs": [
    {
     "name": "stdout",
     "output_type": "stream",
     "text": [
      "cat name :Kitty color : White\n",
      "Dog name : Doggy Dog color : Brown\n"
     ]
    }
   ],
   "source": [
    "# INHERITANCE\n",
    "\n",
    "class Animal:\n",
    "    \n",
    "    def __init__(self,name):\n",
    "        self.name = name\n",
    "    \n",
    "    def speak(self):\n",
    "        pass\n",
    "    \n",
    "\n",
    "class Cat(Animal):\n",
    "    \n",
    "    def __init__(self,name,color):\n",
    "        super().__init__(name)\n",
    "        self.color = color  \n",
    "\n",
    "    def speak(self):\n",
    "        return f\"cat name :{self.name} color : {self.color}\"\n",
    "\n",
    "class Dog(Animal):\n",
    "    \n",
    "    def __init__(self,name,color):\n",
    "        super().__init__(name)\n",
    "        self.color = color\n",
    "    \n",
    "    def speak(self):\n",
    "        return f\"Dog name : {self.name} Dog color : {self.color}\"\n",
    "       \n",
    "cat = Cat(\"Kitty\",\"White\")\n",
    "print(cat.speak())\n",
    "\n",
    "dog = Dog(\"Doggy\",\"Brown\")\n",
    "print(dog.speak())"
   ]
  },
  {
   "cell_type": "code",
   "execution_count": null,
   "metadata": {},
   "outputs": [
    {
     "name": "stdout",
     "output_type": "stream",
     "text": [
      "Ramesh\n",
      "Ramesh\n",
      "You can access this method inside class and in the subclasses of the relevent class\n"
     ]
    }
   ],
   "source": [
    "# ENCAPSULATION\n",
    "\n",
    "class Private:\n",
    "    \n",
    "    def __init__(self,name):\n",
    "        self.__name = name #private (__)\n",
    "    \n",
    "    def printName(self):\n",
    "        return self.__name\n",
    "    \n",
    "    def __privatve_method():\n",
    "        return \"You can't Access this private method outside class but You can access this private method inside class\"\n",
    "\n",
    "private = Private(\"Ramesh\")\n",
    "print(private.printName())\n",
    "print(private.__privatve_method()) # this is method not access outside class(Error)\n",
    "\n",
    "class Protected:\n",
    "    \n",
    "    def __init__(self,name):\n",
    "        self._name = name #protected(_)\n",
    "\n",
    "    def _protected_method(self):\n",
    "        return \"You can access this method inside class and in the subclasses of the relevent class\"\n",
    "    \n",
    "protected = Protected(\"Ramesh\")\n",
    "print(protected._name)\n",
    "print(protected._protected_method())"
   ]
  }
 ],
 "metadata": {
  "kernelspec": {
   "display_name": "Python 3",
   "language": "python",
   "name": "python3"
  },
  "language_info": {
   "codemirror_mode": {
    "name": "ipython",
    "version": 3
   },
   "file_extension": ".py",
   "mimetype": "text/x-python",
   "name": "python",
   "nbconvert_exporter": "python",
   "pygments_lexer": "ipython3",
   "version": "3.13.0"
  }
 },
 "nbformat": 4,
 "nbformat_minor": 2
}
