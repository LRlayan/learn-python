{
 "cells": [
  {
   "cell_type": "code",
   "execution_count": null,
   "metadata": {},
   "outputs": [
    {
     "name": "stdout",
     "output_type": "stream",
     "text": [
      "cat name :Kitty color : White\n",
      "Dog name : Doggy Dog color : Brown\n"
     ]
    }
   ],
   "source": [
    "# INHERITANCE\n",
    "\n",
    "class Animal:\n",
    "    \n",
    "    def __init__(self,name):\n",
    "        self.name = name\n",
    "    \n",
    "    def speak(self):\n",
    "        pass\n",
    "    \n",
    "\n",
    "class Cat(Animal):\n",
    "    \n",
    "    def __init__(self,name,color):\n",
    "        super().__init__(name)\n",
    "        self.color = color  \n",
    "\n",
    "    def speak(self):\n",
    "        return f\"cat name :{self.name} color : {self.color}\"\n",
    "\n",
    "class Dog(Animal):\n",
    "    \n",
    "    def __init__(self,name,color):\n",
    "        super().__init__(name)\n",
    "        self.color = color\n",
    "    \n",
    "    def speak(self):\n",
    "        return f\"Dog name : {self.name} Dog color : {self.color}\"\n",
    "       \n",
    "cat = Cat(\"Kitty\",\"White\")\n",
    "print(cat.speak())\n",
    "\n",
    "dog = Dog(\"Doggy\",\"Brown\")\n",
    "print(dog.speak())"
   ]
  },
  {
   "cell_type": "code",
   "execution_count": null,
   "metadata": {},
   "outputs": [
    {
     "name": "stdout",
     "output_type": "stream",
     "text": [
      "Ramesh\n",
      "Ramesh\n",
      "You can access this method inside class and in the subclasses of the relevent class\n"
     ]
    }
   ],
   "source": [
    "# ENCAPSULATION\n",
    "\n",
    "class Private:\n",
    "    \n",
    "    def __init__(self,name):\n",
    "        self.__name = name #private (__)\n",
    "    \n",
    "    def printName(self):\n",
    "        return self.__name\n",
    "    \n",
    "    def __privatve_method():\n",
    "        return \"You can't Access this private method outside class but You can access this private method inside class\"\n",
    "\n",
    "private = Private(\"Ramesh\")\n",
    "print(private.printName())\n",
    "print(private.__privatve_method()) # this is method not access outside class(Error)\n",
    "\n",
    "class Protected:\n",
    "    \n",
    "    def __init__(self,name):\n",
    "        self._name = name #protected(_)\n",
    "\n",
    "    def _protected_method(self):\n",
    "        return \"You can access this method inside class and in the subclasses of the relevent class\"\n",
    "    \n",
    "protected = Protected(\"Ramesh\")\n",
    "print(protected._name)\n",
    "print(protected._protected_method())"
   ]
  },
  {
   "cell_type": "code",
   "execution_count": 16,
   "metadata": {},
   "outputs": [
    {
     "name": "stdout",
     "output_type": "stream",
     "text": [
      "Rendering square\n",
      "Rendering polygon\n",
      "Rendering circle\n"
     ]
    }
   ],
   "source": [
    "# POLYMORPHISM\n",
    "# Polymorphism is change behavior in runtime of one object\n",
    "\n",
    "class Square:\n",
    "    \n",
    "    def render(self):\n",
    "        print(\"Rendering square\")\n",
    "\n",
    "class Polygon:\n",
    "    \n",
    "    def render(self):\n",
    "        print(\"Rendering polygon\")\n",
    "        \n",
    "class Circle:\n",
    "    \n",
    "    def render(self):\n",
    "        print(\"Rendering circle\")\n",
    "\n",
    "square = Square()\n",
    "square.render()\n",
    "polygon = Polygon()\n",
    "polygon.render()\n",
    "circle = Circle()\n",
    "circle.render()"
   ]
  },
  {
   "cell_type": "code",
   "execution_count": 17,
   "metadata": {},
   "outputs": [
    {
     "name": "stdout",
     "output_type": "stream",
     "text": [
      "4188.790204786391\n"
     ]
    }
   ],
   "source": [
    "# calculate sphere volume\n",
    "\n",
    "import math as m\n",
    "\n",
    "def calculate_sphere_volume(radius):\n",
    "    return 4/3*m.pi * radius * radius * radius\n",
    "\n",
    "print(calculate_sphere_volume(10))"
   ]
  },
  {
   "cell_type": "code",
   "execution_count": null,
   "metadata": {},
   "outputs": [
    {
     "name": "stdout",
     "output_type": "stream",
     "text": [
      "55\n"
     ]
    }
   ],
   "source": [
    "# sum of squares (n)\n",
    "# 1**2 + 2**2 + 3**2 + .... + n**2\n",
    "\n",
    "def sum_of_squares(n):\n",
    "    sum = 0\n",
    "    for i in range(n+1):\n",
    "        sum+=i**2\n",
    "        \n",
    "    return sum\n",
    "\n",
    "print(sum_of_squares(5))"
   ]
  },
  {
   "cell_type": "code",
   "execution_count": 10,
   "metadata": {},
   "outputs": [
    {
     "name": "stdout",
     "output_type": "stream",
     "text": [
      "sum\n",
      "{'key': ['x', 'y'], 'result': 20}\n",
      "product\n",
      "{'key': ['a', 'b', 'c'], 'result': 50}\n"
     ]
    }
   ],
   "source": [
    "# Abitaray\n",
    "\n",
    "def calculate(operation,**kwargs):\n",
    "    print(operation)\n",
    "    keys = list(kwargs.keys())\n",
    "    values = sum(kwargs.values())\n",
    "    return {\"key\":keys, \"result\": values}\n",
    "\n",
    "print(calculate(operation=\"sum\",x=10,y=10))\n",
    "print(calculate(operation=\"product\",a=20,b=10,c=20))\n",
    "\n"
   ]
  },
  {
   "cell_type": "code",
   "execution_count": 37,
   "metadata": {},
   "outputs": [
    {
     "name": "stdout",
     "output_type": "stream",
     "text": [
      "11\n",
      "14\n"
     ]
    }
   ],
   "source": [
    "# sum of digits\n",
    "\n",
    "# 1st way\n",
    "def sum_of_digit(n):\n",
    "    total = 0\n",
    "    for digit in str(n):\n",
    "        total += int(digit)\n",
    "    return total\n",
    "\n",
    "print(sum_of_digit(5231))\n",
    "\n",
    "# 2nd way\n",
    "# using recursion\n",
    "def sum_of_digit(x):\n",
    "    if x == 0:\n",
    "        return 0\n",
    "    return x % 10 + sum_of_digit(x // 10) \n",
    "    \n",
    "print(sum_of_digit(1256))\n",
    "        "
   ]
  },
  {
   "cell_type": "code",
   "execution_count": 40,
   "metadata": {},
   "outputs": [
    {
     "name": "stdout",
     "output_type": "stream",
     "text": [
      "[50, 40, 60]\n"
     ]
    }
   ],
   "source": [
    "# map\n",
    "\n",
    "my_list_1 = [10,20,10]\n",
    "my_list_2 = [40,20,50]\n",
    "\n",
    "def sumation_of_arrays(list_1,list_2):\n",
    "    return list_1 + list_2\n",
    "\n",
    "print(list(map(sumation_of_arrays,my_list_1,my_list_2)))"
   ]
  },
  {
   "cell_type": "code",
   "execution_count": 49,
   "metadata": {},
   "outputs": [
    {
     "name": "stdout",
     "output_type": "stream",
     "text": [
      "[10, 20, 30]\n"
     ]
    }
   ],
   "source": [
    "# copy\n",
    "list_1 = []\n",
    "list_numbers = [10,20,30]\n",
    "list_1 = list_numbers.copy()\n",
    "print(list_1)"
   ]
  },
  {
   "cell_type": "code",
   "execution_count": null,
   "metadata": {},
   "outputs": [
    {
     "name": "stdout",
     "output_type": "stream",
     "text": [
      "('cricket', 'vollyball', 'tennis')\n",
      "sports is  <class 'tuple'>\n",
      "animal is  <class 'str'>\n",
      "vehicle <class 'tuple'>\n",
      "('Ramesh', True, 30)\n",
      "any types : <class 'tuple'>\n"
     ]
    }
   ],
   "source": [
    "# tuple\n",
    "# orderd\n",
    "# any data types\n",
    "# using normal brackets -> ()\n",
    "# allow duplicate values\n",
    "# unchangable valuse\n",
    "# if list have a one element in list, it don't be tuple. -> important\n",
    "\n",
    "sports = (\"cricket\" , \"vollyball\" , \"tennis\")\n",
    "print(sports)\n",
    "print(\"sports is \",type(sports))\n",
    "\n",
    "animal = (\"Dog\") \n",
    "print(\"animal is \",type(animal)) #it's not a tuple\n",
    "vehicle = (\"BMW\",)\n",
    "print(\"vehicle\" , type(vehicle)) #it's a tuple\n",
    "\n",
    "any_types = (\"Ramesh\" , True , 30)\n",
    "print(any_types) \n",
    "print(\"any types :\",type(any_types)) #it's a tuple\n",
    "\n",
    "#any_types[1] = 12 #error #don't change value in this list but some ways have to do it.\n",
    "\n",
    "convert_to_list = list(any_types)\n",
    "convert_to_list[1] = \"Layan\"\n",
    "any_types = tuple(convert_to_list)\n",
    "print(any_types,type(any_types))"
   ]
  },
  {
   "cell_type": "code",
   "execution_count": 78,
   "metadata": {},
   "outputs": [
    {
     "name": "stdout",
     "output_type": "stream",
     "text": [
      "1\n",
      "dog\n",
      "True\n"
     ]
    }
   ],
   "source": [
    "# tuple\n",
    "my_tuple = [(1,10,20),(\"dog\",\"cat\"),(True,False)]\n",
    "print(my_tuple[0][0])\n",
    "print(my_tuple[1][0])\n",
    "print(my_tuple[2][0])"
   ]
  },
  {
   "cell_type": "code",
   "execution_count": 70,
   "metadata": {},
   "outputs": [
    {
     "name": "stdout",
     "output_type": "stream",
     "text": [
      "[1, 2, 3, 4, 5, 6]\n"
     ]
    }
   ],
   "source": [
    "# extend\n",
    "\n",
    "list_1 = [1,2,3]\n",
    "list_2 = [4,5,6]\n",
    "\n",
    "list_1.extend(list_2)\n",
    "print(list_1)"
   ]
  },
  {
   "cell_type": "code",
   "execution_count": 72,
   "metadata": {},
   "outputs": [
    {
     "name": "stdout",
     "output_type": "stream",
     "text": [
      "[1, 2, 3, 4, 5]\n"
     ]
    }
   ],
   "source": [
    "# sort()\n",
    "\n",
    "list_5 = [5,2,1,4,3]\n",
    "list_5.sort()\n",
    "print(list_5)"
   ]
  },
  {
   "cell_type": "code",
   "execution_count": 79,
   "metadata": {},
   "outputs": [
    {
     "name": "stdout",
     "output_type": "stream",
     "text": [
      "[10, 20]\n"
     ]
    }
   ],
   "source": [
    "# pop()\n",
    "\n",
    "list_4 = [10,20,30]\n",
    "list_4.pop()\n",
    "print(list_4)"
   ]
  },
  {
   "cell_type": "code",
   "execution_count": 85,
   "metadata": {},
   "outputs": [
    {
     "name": "stdout",
     "output_type": "stream",
     "text": [
      "10\n",
      "20\n",
      "30\n",
      "40\n"
     ]
    }
   ],
   "source": [
    "# range\n",
    "# arithmatic progress\n",
    "# range(start , stop , step)\n",
    "\n",
    "r1 = range(10 , 50 , 10)\n",
    "for i in r1:\n",
    "    print(i)"
   ]
  },
  {
   "cell_type": "code",
   "execution_count": null,
   "metadata": {},
   "outputs": [
    {
     "name": "stdout",
     "output_type": "stream",
     "text": [
      "1)  {'name': 'ramesh', 'age': 23, 'city': 'Beruwala'}\n",
      "2)  {'name': 'layan', 'age': 23, 'city': 'Beruwala'}\n",
      "3)  <class 'dict'>\n",
      "4)  ramesh\n",
      "5)  {'name': 'ramesh', 'age': 23, 'city': 'kaluthara'}\n",
      "6)  {'name': 'ramesh', 'age': 23, 'city': 'kaluthara', 'tel': '0765412588'}\n",
      "7)  {'name': 'ramesh', 'age': 23, 'city': 'kaluthara'}\n",
      "8)  {'name': 'ramesh', 'age': 23}\n",
      "9)  dict_keys(['name', 'age'])\n",
      "10)  {'name': 'ramesh', 'age': 23}\n",
      "11)  {'name': 'Rajitha', 'age': 23}\n"
     ]
    }
   ],
   "source": [
    "# dictionary\n",
    "# changable\n",
    "# this data type holding key and value\n",
    "# key - string\n",
    "# value - any type\n",
    "# do not allow duplicate keys but don't error, after which the value is replaced in the corresponding key.\n",
    "\n",
    "# example duplcates\n",
    "dict_1 = {\n",
    "    \"name\":\"ramesh\",\n",
    "    \"age\":23,\n",
    "    \"city\":\"Beruwala\"\n",
    "}\n",
    "\n",
    "dict_2 = {\n",
    "    \"name\":\"ramesh\",\n",
    "    \"age\":23,\n",
    "    \"city\":\"Beruwala\",\n",
    "    \"name\":\"layan\"\n",
    "}\n",
    "\n",
    "print(\"1) \",dict_1)\n",
    "print(\"2) \",dict_2)\n",
    "print(\"3) \",type(dict_1))\n",
    "\n",
    "# we can access single element using a key\"\n",
    "print(\"4) \",dict_1[\"name\"])\n",
    "\n",
    "# value update using key\n",
    "dict_1[\"city\"] = \"kaluthara\"\n",
    "print(\"5) \",dict_1)\n",
    "\n",
    "# assign new key and value in dictionary\n",
    "dict_1[\"tel\"] = \"0765412588\"\n",
    "print(\"6) \",dict_1)\n",
    "\n",
    "# remove value relevent key\n",
    "dict_1.pop(\"tel\")\n",
    "print(\"7) \",dict_1)\n",
    "\n",
    "# remove last index of distioinary\n",
    "dict_1.popitem()\n",
    "print(\"8) \",dict_1)\n",
    "\n",
    "# get keys in dictioinary\n",
    "print(\"9) \",dict_1.keys())\n",
    "\n",
    "dict_3 = dict_1.copy()\n",
    "dict_3[\"name\"] = \"Rajitha\" #only change value in dict_3\n",
    "print(\"10) \",dict_1)\n",
    "print(\"11) \",dict_3)"
   ]
  },
  {
   "cell_type": "code",
   "execution_count": 104,
   "metadata": {},
   "outputs": [
    {
     "name": "stdout",
     "output_type": "stream",
     "text": [
      "1)  [1, 2, 3, 4]\n",
      "2)  None\n"
     ]
    }
   ],
   "source": [
    "# clear\n",
    "\n",
    "list_6 = [1,2,3,4]\n",
    "print(\"1) \",list_6)\n",
    "print(\"2) \",list_6.clear())"
   ]
  },
  {
   "cell_type": "code",
   "execution_count": 107,
   "metadata": {},
   "outputs": [
    {
     "name": "stdout",
     "output_type": "stream",
     "text": [
      "1)  30.5\n",
      "2)  30\n",
      "2)  7\n",
      "3)  6.5\n",
      "4)  20\n",
      "5)  1024\n",
      "6)  3.0\n",
      "7)  3\n",
      "8)  the reminder 4.25\n",
      "9)  5\n",
      "10)  15\n",
      "11)  15\n",
      "12)  500\n",
      "13)  4.0\n",
      "14)  10\n",
      "15)  9536743164062500000000000000000000\n",
      "16)  2\n",
      "17)  False\n",
      "18)  True\n",
      "19)  True\n",
      "20)  False\n",
      "21)  False\n",
      "22)  True\n"
     ]
    }
   ],
   "source": [
    "# Arithmatic operator\n",
    "\n",
    "#Addition(+)\n",
    "x = 10 + 20.5\n",
    "print(\"1) \",x)\n",
    "\n",
    "x = 10 + 20\n",
    "print(\"2) \",x)\n",
    "\n",
    "#Substraction\n",
    "x = 12 - 5\n",
    "print(\"2) \",x)\n",
    "\n",
    "x = 12.5 - 6\n",
    "print(\"3) \",x)\n",
    "\n",
    "#Multiplication\n",
    "x = 4 * 5\n",
    "print(\"4) \",x)\n",
    "\n",
    "#Exponentiation\n",
    "x = 4 ** 5 #4 re 8weni bale\n",
    "print(\"5) \",x)\n",
    "\n",
    "#Division\n",
    "x = 12/4\n",
    "print(\"6) \",x)\n",
    "\n",
    "#Floor Division\n",
    "x = 12//4\n",
    "print(\"7) \",x)\n",
    "\n",
    "#Modulus\n",
    "x = 17/4\n",
    "print(\"8) \",\"the reminder\",x)\n",
    "\n",
    "#Assigment\n",
    "x = 5\n",
    "print(\"9) \",x)\n",
    "\n",
    "#add and assign\n",
    "x = 10\n",
    "x +=5\n",
    "print(\"10) \",x)\n",
    "\n",
    "#substract and assign\n",
    "x = 20\n",
    "x -= 5\n",
    "print(\"11) \",x)\n",
    "\n",
    "# multiplay and assign\n",
    "x = 50\n",
    "x *= 10\n",
    "print(\"12) \",x)\n",
    "\n",
    "#devide and assign\n",
    "x = 20\n",
    "x /= 5\n",
    "print(\"13) \",x)\n",
    "\n",
    "#modulo and assign\n",
    "x = 50\n",
    "x %= 20\n",
    "print(\"14) \",x)\n",
    "# exponentiation and assign\n",
    "x = 50\n",
    "x **= 20\n",
    "print(\"15) \",x)\n",
    "# foor division and assign\n",
    "x = 50\n",
    "x //= 20\n",
    "print(\"16) \",x)\n",
    "\n",
    "# equal to\n",
    "x = 10\n",
    "y = 20\n",
    "print(\"17) \",x==y)\n",
    "\n",
    "# not equal to\n",
    "x = 10\n",
    "y = 20\n",
    "print(\"18) \",x!=y)\n",
    "\n",
    "# less than\n",
    "x = 10\n",
    "y = 20\n",
    "print(\"19) \",x<y)\n",
    "\n",
    "# greeter than\n",
    "x = 10\n",
    "y = 20\n",
    "print(\"20) \",x>y)\n",
    "\n",
    "# less than equal to\n",
    "x = 10\n",
    "y = 20\n",
    "print(\"21) \",x>=y)\n",
    "\n",
    "# greeter than equal to\n",
    "x = 10\n",
    "y = 20\n",
    "print(\"22) \",x<=y)"
   ]
  },
  {
   "cell_type": "code",
   "execution_count": 112,
   "metadata": {},
   "outputs": [
    {
     "name": "stdout",
     "output_type": "stream",
     "text": [
      "1)  True\n",
      "2)  False\n",
      "3)  True\n",
      "4)  False\n",
      "5)  True\n",
      "6)  False\n"
     ]
    }
   ],
   "source": [
    "# logical operator\n",
    "\n",
    "x = 10\n",
    "y = 5\n",
    "\n",
    "# and\n",
    "print(\"1) \",x > 0 and y < 10)\n",
    "print(\"2) \",x < 0 and y > 10)\n",
    "\n",
    "# or\n",
    "print(\"3) \",x > 0 or y < 10)\n",
    "print(\"4) \",x < 0 or y > 10)\n",
    "\n",
    "# not\n",
    "print(\"5) \",not x < y)\n",
    "print(\"6) \",not x > y)"
   ]
  },
  {
   "cell_type": "code",
   "execution_count": 116,
   "metadata": {},
   "outputs": [
    {
     "name": "stdout",
     "output_type": "stream",
     "text": [
      "1)  True\n",
      "2)  False\n",
      "3)  False\n"
     ]
    }
   ],
   "source": [
    "# identity operator\n",
    "# check memory location\n",
    "# This works for numbers up to 256, but not for numbers above that.(python language issue)\n",
    "\n",
    "x = 25\n",
    "y = 25\n",
    "print(\"1) \",x is y)\n",
    "print(\"2) \",x is not y)\n",
    "\n",
    "a = 257\n",
    "b = 257\n",
    "print(\"3) \",a is b) #python language issue"
   ]
  },
  {
   "cell_type": "code",
   "execution_count": 120,
   "metadata": {},
   "outputs": [
    {
     "name": "stdout",
     "output_type": "stream",
     "text": [
      "1)  True\n",
      "2)  True\n",
      "3)  False\n"
     ]
    }
   ],
   "source": [
    "# membership operator\n",
    "\n",
    "numbers = [10,20,30,40,50]\n",
    "\n",
    "print(\"1) \" , 10 in numbers)\n",
    "print(\"2) \" , 100 not in numbers)\n",
    "print(\"3) \" , 100 in numbers)"
   ]
  },
  {
   "cell_type": "code",
   "execution_count": 124,
   "metadata": {},
   "outputs": [
    {
     "name": "stdout",
     "output_type": "stream",
     "text": [
      "1 is Odd\n",
      "10 is even\n",
      "5 is Odd\n",
      "6 is even\n",
      "x>0 is True\n"
     ]
    }
   ],
   "source": [
    "# if else\n",
    "\n",
    "list_7 = [1,10,5,6]\n",
    "for i in list_7:\n",
    "    if i%2==0:\n",
    "        print(i,\"is even\")\n",
    "    else:\n",
    "        print(i,\"is Odd\")\n",
    "        \n",
    "x = 10\n",
    "if x > 0:\n",
    "    print(\"x>0 is True\")\n",
    "elif x < 10:\n",
    "    print(\"x<10 is True\")\n",
    "else:\n",
    "    print(\"Wrong number\")"
   ]
  },
  {
   "cell_type": "code",
   "execution_count": 130,
   "metadata": {},
   "outputs": [
    {
     "name": "stdout",
     "output_type": "stream",
     "text": [
      "1) Even\n",
      "2) Not even\n"
     ]
    }
   ],
   "source": [
    "# turnary operator\n",
    "# find even number\n",
    "\n",
    "x = 20\n",
    "y = 21\n",
    "print(\"1) Even\" if x%2==0 else \"1) Not even\")\n",
    "print(\"2) Even\" if y%2==0 else \"2) Not even\")"
   ]
  },
  {
   "cell_type": "code",
   "execution_count": 143,
   "metadata": {},
   "outputs": [
    {
     "name": "stdout",
     "output_type": "stream",
     "text": [
      "Internal server error\n"
     ]
    }
   ],
   "source": [
    "# match (like switch case in java)\n",
    "response_code = 500\n",
    "\n",
    "match response_code:\n",
    "    case 200:\n",
    "        print(\"Create\")\n",
    "    case 404:\n",
    "        print(\"Not found\")\n",
    "    case 401:\n",
    "        print(\"Unaothorized\")\n",
    "    case 500:\n",
    "        print(\"Internal server error\")\n",
    "    case _:\n",
    "        print(\"not status code\")"
   ]
  },
  {
   "cell_type": "code",
   "execution_count": null,
   "metadata": {},
   "outputs": [
    {
     "name": "stdout",
     "output_type": "stream",
     "text": [
      "list has two element\n"
     ]
    }
   ],
   "source": [
    "# match excersize\n",
    "x = [10,2]\n",
    "\n",
    "match x:\n",
    "    case []:\n",
    "        print(\"empty list\")\n",
    "    case [x]:\n",
    "        print(\"list has single element\")\n",
    "    case [x,y]:\n",
    "        print(\"list has two element\")\n",
    "    case _:\n",
    "        print(\"this is something else\") "
   ]
  },
  {
   "cell_type": "code",
   "execution_count": 140,
   "metadata": {},
   "outputs": [],
   "source": [
    "# input field\n",
    "x = input(\"Enter a value : \") #get value string\n",
    "y = int(input(\"Enter a value : \")) #get value int"
   ]
  },
  {
   "cell_type": "code",
   "execution_count": 149,
   "metadata": {},
   "outputs": [
    {
     "name": "stdout",
     "output_type": "stream",
     "text": [
      "1)  Apple,banana\n",
      "2)  [4, 16, 36]\n",
      "3)  [1, 4, 9, 16, 25, 36, 49, 64, 81, 100]\n"
     ]
    }
   ],
   "source": [
    "# for loop\n",
    "list = [\"Apple,banana\"]\n",
    "for item in list:\n",
    "    print(\"1) \",item)\n",
    "    \n",
    "list = [2,4,6]\n",
    "list_2 = [x**2 for x in list]\n",
    "print(\"2) \",list_2)\n",
    "\n",
    "list_2 = [x**2 for x in range(1,11)]\n",
    "print(\"3) \",list_2)"
   ]
  },
  {
   "cell_type": "code",
   "execution_count": 152,
   "metadata": {},
   "outputs": [
    {
     "name": "stdout",
     "output_type": "stream",
     "text": [
      "1\n",
      "2\n",
      "3\n",
      "4\n",
      "5\n",
      "End\n"
     ]
    }
   ],
   "source": [
    "# while loop\n",
    "\n",
    "x = 5\n",
    "i = 0\n",
    "\n",
    "while x > i:\n",
    "    i += 1\n",
    "    print(i)\n",
    "print(\"End\")\n",
    "    "
   ]
  },
  {
   "cell_type": "code",
   "execution_count": 154,
   "metadata": {},
   "outputs": [
    {
     "name": "stdout",
     "output_type": "stream",
     "text": [
      "0\n",
      "2\n",
      "4\n",
      "end\n"
     ]
    }
   ],
   "source": [
    "# break\n",
    "x = int(input(\"Enter the value : \"))\n",
    "i = 0\n",
    "\n",
    "while i < x:\n",
    "    print(i)\n",
    "    i+=2\n",
    "    if i == 16:\n",
    "        break\n",
    "\n",
    "print(\"end\")"
   ]
  },
  {
   "cell_type": "code",
   "execution_count": 156,
   "metadata": {},
   "outputs": [
    {
     "name": "stdout",
     "output_type": "stream",
     "text": [
      "3\n",
      "15\n"
     ]
    }
   ],
   "source": [
    "# Continue\n",
    "\n",
    "my_list = [3,8,15,10,16]\n",
    "\n",
    "for item in my_list:\n",
    "    if item%2==0:\n",
    "        continue\n",
    "    else:\n",
    "        print(item)    "
   ]
  },
  {
   "cell_type": "code",
   "execution_count": 159,
   "metadata": {},
   "outputs": [
    {
     "name": "stdout",
     "output_type": "stream",
     "text": [
      "10 20 30\n",
      "2 dd True\n"
     ]
    }
   ],
   "source": [
    "# unpacking\n",
    "list_8 = [10,20,30]\n",
    "x,y,z = list_8\n",
    "print(x,y,z)\n",
    "\n",
    "tuple = (2,\"dd\",True)\n",
    "type(tuple)\n",
    "x,y,z = tuple\n",
    "print(x,y,z)"
   ]
  },
  {
   "cell_type": "code",
   "execution_count": 164,
   "metadata": {},
   "outputs": [
    {
     "name": "stdout",
     "output_type": "stream",
     "text": [
      "1)  name ramesh\n",
      "1)  age 23\n",
      "2)  name age\n",
      "3)  ramesh 23\n",
      "4)  ramesh 23\n",
      "4)  name age\n"
     ]
    }
   ],
   "source": [
    "# how to unpacking Dictionary\n",
    "\n",
    "person = {\n",
    "    \"name\":\"ramesh\",\n",
    "    \"age\":\"23\"\n",
    "}\n",
    "\n",
    "# 1st way\n",
    "for key,value in person.items():\n",
    "    print(\"1) \",key,value)\n",
    "    \n",
    "# 2nd way\n",
    "y,x = person.keys()\n",
    "print(\"2) \",y,x)\n",
    "\n",
    "y,x = person.values()\n",
    "print(\"3) \",y,x)\n",
    "\n",
    "for key,value in person.values(),person.keys():\n",
    "    print(\"4) \",key,value)"
   ]
  },
  {
   "cell_type": "code",
   "execution_count": 166,
   "metadata": {},
   "outputs": [
    {
     "name": "stdout",
     "output_type": "stream",
     "text": [
      "{'a': 1, 'b': 2}\n"
     ]
    }
   ],
   "source": [
    "# how to merge two dictonary\n",
    "\n",
    "dict_1 = {\n",
    "    \"a\":1\n",
    "}\n",
    "\n",
    "dict_2 = {\n",
    "    \"b\":2\n",
    "}\n",
    "\n",
    "dict_3 = dict_1 | dict_2\n",
    "print(dict_3)\n"
   ]
  },
  {
   "cell_type": "code",
   "execution_count": 168,
   "metadata": {},
   "outputs": [
    {
     "name": "stdout",
     "output_type": "stream",
     "text": [
      "1\n",
      "Not found\n"
     ]
    }
   ],
   "source": [
    "# how to get dictionalry key value\n",
    "\n",
    "my_dict = {\n",
    "    \"a\" : 1,\n",
    "    \"b\" : 2,\n",
    "    \"c\" : 3,\n",
    "}\n",
    "\n",
    "print(my_dict.get(\"a\",\"Not found\"))\n",
    "print(my_dict.get(\"d\",\"Not found\"))"
   ]
  }
 ],
 "metadata": {
  "kernelspec": {
   "display_name": "Python 3",
   "language": "python",
   "name": "python3"
  },
  "language_info": {
   "codemirror_mode": {
    "name": "ipython",
    "version": 3
   },
   "file_extension": ".py",
   "mimetype": "text/x-python",
   "name": "python",
   "nbconvert_exporter": "python",
   "pygments_lexer": "ipython3",
   "version": "3.13.0"
  }
 },
 "nbformat": 4,
 "nbformat_minor": 2
}
