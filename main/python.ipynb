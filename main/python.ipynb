{
 "cells": [
  {
   "cell_type": "code",
   "execution_count": null,
   "metadata": {},
   "outputs": [
    {
     "name": "stdout",
     "output_type": "stream",
     "text": [
      "cat name :Kitty color : White\n",
      "Dog name : Doggy Dog color : Brown\n"
     ]
    }
   ],
   "source": [
    "# INHERITANCE\n",
    "\n",
    "class Animal:\n",
    "    \n",
    "    def __init__(self,name):\n",
    "        self.name = name\n",
    "    \n",
    "    def speak(self):\n",
    "        pass\n",
    "    \n",
    "\n",
    "class Cat(Animal):\n",
    "    \n",
    "    def __init__(self,name,color):\n",
    "        super().__init__(name)\n",
    "        self.color = color  \n",
    "\n",
    "    def speak(self):\n",
    "        return f\"cat name :{self.name} color : {self.color}\"\n",
    "\n",
    "class Dog(Animal):\n",
    "    \n",
    "    def __init__(self,name,color):\n",
    "        super().__init__(name)\n",
    "        self.color = color\n",
    "    \n",
    "    def speak(self):\n",
    "        return f\"Dog name : {self.name} Dog color : {self.color}\"\n",
    "       \n",
    "cat = Cat(\"Kitty\",\"White\")\n",
    "print(cat.speak())\n",
    "\n",
    "dog = Dog(\"Doggy\",\"Brown\")\n",
    "print(dog.speak())"
   ]
  },
  {
   "cell_type": "code",
   "execution_count": null,
   "metadata": {},
   "outputs": [
    {
     "name": "stdout",
     "output_type": "stream",
     "text": [
      "Ramesh\n",
      "Ramesh\n",
      "You can access this method inside class and in the subclasses of the relevent class\n"
     ]
    }
   ],
   "source": [
    "# ENCAPSULATION\n",
    "\n",
    "class Private:\n",
    "    \n",
    "    def __init__(self,name):\n",
    "        self.__name = name #private (__)\n",
    "    \n",
    "    def printName(self):\n",
    "        return self.__name\n",
    "    \n",
    "    def __privatve_method():\n",
    "        return \"You can't Access this private method outside class but You can access this private method inside class\"\n",
    "\n",
    "private = Private(\"Ramesh\")\n",
    "print(private.printName())\n",
    "print(private.__privatve_method()) # this is method not access outside class(Error)\n",
    "\n",
    "class Protected:\n",
    "    \n",
    "    def __init__(self,name):\n",
    "        self._name = name #protected(_)\n",
    "\n",
    "    def _protected_method(self):\n",
    "        return \"You can access this method inside class and in the subclasses of the relevent class\"\n",
    "    \n",
    "protected = Protected(\"Ramesh\")\n",
    "print(protected._name)\n",
    "print(protected._protected_method())"
   ]
  },
  {
   "cell_type": "code",
   "execution_count": 16,
   "metadata": {},
   "outputs": [
    {
     "name": "stdout",
     "output_type": "stream",
     "text": [
      "Rendering square\n",
      "Rendering polygon\n",
      "Rendering circle\n"
     ]
    }
   ],
   "source": [
    "# POLYMORPHISM\n",
    "# Polymorphism is change behavior in runtime of one object\n",
    "\n",
    "class Square:\n",
    "    \n",
    "    def render(self):\n",
    "        print(\"Rendering square\")\n",
    "\n",
    "class Polygon:\n",
    "    \n",
    "    def render(self):\n",
    "        print(\"Rendering polygon\")\n",
    "        \n",
    "class Circle:\n",
    "    \n",
    "    def render(self):\n",
    "        print(\"Rendering circle\")\n",
    "\n",
    "square = Square()\n",
    "square.render()\n",
    "polygon = Polygon()\n",
    "polygon.render()\n",
    "circle = Circle()\n",
    "circle.render()"
   ]
  },
  {
   "cell_type": "code",
   "execution_count": 17,
   "metadata": {},
   "outputs": [
    {
     "name": "stdout",
     "output_type": "stream",
     "text": [
      "4188.790204786391\n"
     ]
    }
   ],
   "source": [
    "# calculate sphere volume\n",
    "\n",
    "import math as m\n",
    "\n",
    "def calculate_sphere_volume(radius):\n",
    "    return 4/3*m.pi * radius * radius * radius\n",
    "\n",
    "print(calculate_sphere_volume(10))"
   ]
  },
  {
   "cell_type": "code",
   "execution_count": null,
   "metadata": {},
   "outputs": [
    {
     "name": "stdout",
     "output_type": "stream",
     "text": [
      "55\n"
     ]
    }
   ],
   "source": [
    "# sum of squares (n)\n",
    "# 1**2 + 2**2 + 3**2 + .... + n**2\n",
    "\n",
    "def sum_of_squares(n):\n",
    "    sum = 0\n",
    "    for i in range(n+1):\n",
    "        sum+=i**2\n",
    "        \n",
    "    return sum\n",
    "\n",
    "print(sum_of_squares(5))"
   ]
  },
  {
   "cell_type": "code",
   "execution_count": 10,
   "metadata": {},
   "outputs": [
    {
     "name": "stdout",
     "output_type": "stream",
     "text": [
      "sum\n",
      "{'key': ['x', 'y'], 'result': 20}\n",
      "product\n",
      "{'key': ['a', 'b', 'c'], 'result': 50}\n"
     ]
    }
   ],
   "source": [
    "# Abitaray\n",
    "\n",
    "def calculate(operation,**kwargs):\n",
    "    print(operation)\n",
    "    keys = list(kwargs.keys())\n",
    "    values = sum(kwargs.values())\n",
    "    return {\"key\":keys, \"result\": values}\n",
    "\n",
    "print(calculate(operation=\"sum\",x=10,y=10))\n",
    "print(calculate(operation=\"product\",a=20,b=10,c=20))\n",
    "\n"
   ]
  },
  {
   "cell_type": "code",
   "execution_count": 37,
   "metadata": {},
   "outputs": [
    {
     "name": "stdout",
     "output_type": "stream",
     "text": [
      "11\n",
      "14\n"
     ]
    }
   ],
   "source": [
    "# sum of digits\n",
    "\n",
    "# 1st way\n",
    "def sum_of_digit(n):\n",
    "    total = 0\n",
    "    for digit in str(n):\n",
    "        total += int(digit)\n",
    "    return total\n",
    "\n",
    "print(sum_of_digit(5231))\n",
    "\n",
    "# 2nd way\n",
    "# using recursion\n",
    "def sum_of_digit(x):\n",
    "    if x == 0:\n",
    "        return 0\n",
    "    return x % 10 + sum_of_digit(x // 10) \n",
    "    \n",
    "print(sum_of_digit(1256))\n",
    "        "
   ]
  }
 ],
 "metadata": {
  "kernelspec": {
   "display_name": "Python 3",
   "language": "python",
   "name": "python3"
  },
  "language_info": {
   "codemirror_mode": {
    "name": "ipython",
    "version": 3
   },
   "file_extension": ".py",
   "mimetype": "text/x-python",
   "name": "python",
   "nbconvert_exporter": "python",
   "pygments_lexer": "ipython3",
   "version": "3.13.0"
  }
 },
 "nbformat": 4,
 "nbformat_minor": 2
}
