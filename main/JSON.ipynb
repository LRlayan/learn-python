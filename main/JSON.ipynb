{
 "cells": [
  {
   "cell_type": "code",
   "execution_count": 1,
   "metadata": {},
   "outputs": [],
   "source": [
    "# Json (JavaScript Object Notation)\n",
    "# JSON is language independent mime type.\n",
    "# this is used as data exchange format between server to server and server to client and application application.add()\n",
    "# this is represent in values key and paires.\n",
    "# key is definitle string and we can use the key in only double qout.add()\n",
    "# if you are used json file with python, it must convert to a dictionary.\n",
    "# if we are need use json, we must import the json library."
   ]
  },
  {
   "cell_type": "code",
   "execution_count": null,
   "metadata": {},
   "outputs": [
    {
     "name": "stdout",
     "output_type": "stream",
     "text": [
      "{'Desc': 'Json is a JavaScript Object Notation'}\n",
      "<class 'dict'>\n"
     ]
    }
   ],
   "source": [
    "import json\n",
    "\n",
    "#how read the JSON File\n",
    "with open(\"JSON.json\",\"r\") as json_file:\n",
    "     json_Obj = json.load(json_file)\n",
    "     print(json_Obj)\n",
    "     print(type(json_Obj)) #<class dict>"
   ]
  }
 ],
 "metadata": {
  "kernelspec": {
   "display_name": "Python 3",
   "language": "python",
   "name": "python3"
  },
  "language_info": {
   "codemirror_mode": {
    "name": "ipython",
    "version": 3
   },
   "file_extension": ".py",
   "mimetype": "text/x-python",
   "name": "python",
   "nbconvert_exporter": "python",
   "pygments_lexer": "ipython3",
   "version": "3.13.0"
  }
 },
 "nbformat": 4,
 "nbformat_minor": 2
}
