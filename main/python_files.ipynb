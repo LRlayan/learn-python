{
 "cells": [
  {
   "cell_type": "code",
   "execution_count": 25,
   "metadata": {},
   "outputs": [
    {
     "name": "stdout",
     "output_type": "stream",
     "text": [
      "HI there\n",
      "how are you?\n",
      "[]\n"
     ]
    }
   ],
   "source": [
    "# readlines() - this returns list\n",
    "# we can read python file in use readline() / readlines() / read()\n",
    "# r - read\n",
    "\n",
    "example_file_1 = open(\"example_1.txt\",\"r\")\n",
    "# print(example_file_1.readline()) # hello world\n",
    "print(example_file_1.read()) # hello world\n",
    "print(example_file_1.readlines()) # return array\n",
    "\n",
    "example_file_1.close() # close resources after used "
   ]
  },
  {
   "cell_type": "code",
   "execution_count": null,
   "metadata": {},
   "outputs": [
    {
     "name": "stdout",
     "output_type": "stream",
     "text": [
      "hello world!\n"
     ]
    }
   ],
   "source": [
    "# with\n",
    "# don't need close resources using \"with\" because automatically close\n",
    "\n",
    "with open(\"example_1.txt\" , \"r\") as file_1:\n",
    "    print(file_1.read()) # we can read through file_1 variable in here "
   ]
  },
  {
   "cell_type": "code",
   "execution_count": null,
   "metadata": {},
   "outputs": [],
   "source": [
    "# write() / writelines()\n",
    "# we can write to a file \n",
    "# w - write\n",
    "\n",
    "write_file = open(\"example_1.txt\",\"w\")\n",
    "write_file.write(\"HI there\")\n",
    "write_file.writelines(\"\\nhow are you?\") # we can pass a list to this\n",
    "write_file.close()"
   ]
  },
  {
   "cell_type": "code",
   "execution_count": 33,
   "metadata": {},
   "outputs": [
    {
     "name": "stdout",
     "output_type": "stream",
     "text": [
      "hey! \n",
      "Whats up? \n",
      "How are you bro?\n"
     ]
    }
   ],
   "source": [
    "# with\n",
    "\n",
    "# write file\n",
    "with open(\"example_1.txt\" , \"w\") as write_file:\n",
    "    text_list = [\"hey! \\n\",\"Whats up? \\n\"] #list\n",
    "    write_file.writelines(text_list)\n",
    "    write_file.write(\"How are you bro?\")\n",
    "\n",
    "# read read file\n",
    "with open(\"example_1.txt\",\"r\") as read_file:\n",
    "    print(read_file.read())"
   ]
  },
  {
   "cell_type": "code",
   "execution_count": 35,
   "metadata": {},
   "outputs": [
    {
     "name": "stdout",
     "output_type": "stream",
     "text": [
      "hey! \n",
      "Whats up? \n",
      "How are you bro?Use append\n",
      "Use append\n"
     ]
    }
   ],
   "source": [
    "# append (a)\n",
    "# we can use \"append(a)\" instead of \"write\"\n",
    "\n",
    "with open(\"example_1.txt\" , \"a\") as append_file:\n",
    "    append_file.write(\"\\nUse append\")\n",
    "\n",
    "with open(\"example_1.txt\" , \"r\") as read:\n",
    "    print(read.read())"
   ]
  }
 ],
 "metadata": {
  "kernelspec": {
   "display_name": "Python 3",
   "language": "python",
   "name": "python3"
  },
  "language_info": {
   "codemirror_mode": {
    "name": "ipython",
    "version": 3
   },
   "file_extension": ".py",
   "mimetype": "text/x-python",
   "name": "python",
   "nbconvert_exporter": "python",
   "pygments_lexer": "ipython3",
   "version": "3.13.0"
  }
 },
 "nbformat": 4,
 "nbformat_minor": 2
}
