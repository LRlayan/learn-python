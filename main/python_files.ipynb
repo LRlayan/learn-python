{
 "cells": [
  {
   "cell_type": "code",
   "execution_count": null,
   "metadata": {},
   "outputs": [
    {
     "name": "stdout",
     "output_type": "stream",
     "text": [
      "hello world!\n",
      "[]\n"
     ]
    }
   ],
   "source": [
    "# readlines() - this returns list\n",
    "# we can read python file in use readline() / readlines() / read()\n",
    "\n",
    "example_file_1 = open(\"example_1.txt\",\"r\")\n",
    "# print(example_file_1.readline()) # hello world\n",
    "print(example_file_1.read()) # hello world\n",
    "print(example_file_1.readlines()) # return array\n",
    "\n",
    "example_file_1.close() # close resources after used "
   ]
  },
  {
   "cell_type": "code",
   "execution_count": null,
   "metadata": {},
   "outputs": [],
   "source": []
  }
 ],
 "metadata": {
  "kernelspec": {
   "display_name": "Python 3",
   "language": "python",
   "name": "python3"
  },
  "language_info": {
   "codemirror_mode": {
    "name": "ipython",
    "version": 3
   },
   "file_extension": ".py",
   "mimetype": "text/x-python",
   "name": "python",
   "nbconvert_exporter": "python",
   "pygments_lexer": "ipython3",
   "version": "3.13.0"
  }
 },
 "nbformat": 4,
 "nbformat_minor": 2
}
