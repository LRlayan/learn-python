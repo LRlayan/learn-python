{
 "cells": [
  {
   "cell_type": "code",
   "execution_count": null,
   "metadata": {},
   "outputs": [],
   "source": [
    "# CSV - Comma Seperated Value\n",
    "# CSV File is using store structured data\n",
    "\n",
    "import csv\n",
    "\n",
    "customer_csv_file = \"customers-100.csv\"\n",
    "\n",
    "with open(customer_csv_file,\"r\",newline='') as csv_file:\n",
    "    csv_file_reader = csv.reader(csv_file)\n",
    "    \n",
    "    for i in csv_file_reader:\n",
    "        print(i)"
   ]
  },
  {
   "cell_type": "code",
   "execution_count": 11,
   "metadata": {},
   "outputs": [],
   "source": [
    "# csv file writer\n",
    "\n",
    "import csv\n",
    "\n",
    "data = [\n",
    "    {\"Name\":\"ramesh\",\"Age\":23,\"City\":\"beruwala\"},\n",
    "    {\"Name\":\"layan\",\"Age\":28,\"City\":\"kaluthara\"}\n",
    "]\n",
    "\n",
    "field_names = [\"Name\",\"Age\",\"City\"]\n",
    "\n",
    "with open(\"write-csv-file.csv\",\"w\",newline='') as write_csv:\n",
    "    csv_writer = csv.DictWriter(write_csv,fieldnames=field_names)\n",
    "    csv_writer.writeheader()\n",
    "    for row in data:\n",
    "        csv_writer.writerow(row)"
   ]
  }
 ],
 "metadata": {
  "kernelspec": {
   "display_name": "Python 3",
   "language": "python",
   "name": "python3"
  },
  "language_info": {
   "codemirror_mode": {
    "name": "ipython",
    "version": 3
   },
   "file_extension": ".py",
   "mimetype": "text/x-python",
   "name": "python",
   "nbconvert_exporter": "python",
   "pygments_lexer": "ipython3",
   "version": "3.13.0"
  }
 },
 "nbformat": 4,
 "nbformat_minor": 2
}
