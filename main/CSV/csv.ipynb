{
 "cells": [
  {
   "cell_type": "code",
   "execution_count": null,
   "metadata": {},
   "outputs": [],
   "source": [
    "# CSV - Comma Seperated Value\n",
    "# CSV File is using store structured data\n",
    "\n",
    "import csv\n",
    "\n",
    "customer_csv_file = \"customers-100.csv\"\n",
    "\n",
    "with open(customer_csv_file,\"r\",newline='') as csv_file:\n",
    "    csv_file_reader = csv.reader(csv_file)\n",
    "    \n",
    "    for i in csv_file_reader:\n",
    "        print(i)"
   ]
  }
 ],
 "metadata": {
  "kernelspec": {
   "display_name": "Python 3",
   "language": "python",
   "name": "python3"
  },
  "language_info": {
   "codemirror_mode": {
    "name": "ipython",
    "version": 3
   },
   "file_extension": ".py",
   "mimetype": "text/x-python",
   "name": "python",
   "nbconvert_exporter": "python",
   "pygments_lexer": "ipython3",
   "version": "3.13.0"
  }
 },
 "nbformat": 4,
 "nbformat_minor": 2
}
